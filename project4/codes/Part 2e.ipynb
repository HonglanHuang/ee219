{
 "cells": [
  {
   "cell_type": "code",
   "execution_count": 1,
   "metadata": {},
   "outputs": [
    {
     "name": "stdout",
     "output_type": "stream",
     "text": [
      "labels[0] => Week #\n",
      "labels[1] => Day of Week\n",
      "labels[2] => Backup Start Time - Hour of Day\n",
      "labels[3] => Work-Flow-ID\n",
      "labels[4] => File Name\n",
      "labels[5] => Size of Backup (GB)\n",
      "labels[6] => Backup Time (hour)\n"
     ]
    }
   ],
   "source": [
    "import numpy as np\n",
    "import pandas as pd\n",
    "\n",
    "input_file = \"../data/network_backup_dataset.csv\"\n",
    "df = pd.read_csv(input_file, header = 0)\n",
    "labels = df.columns\n",
    "for i, v in enumerate(labels):\n",
    "    print \"labels[\" + str(i) + \"] => \" + v"
   ]
  },
  {
   "cell_type": "code",
   "execution_count": 2,
   "metadata": {},
   "outputs": [],
   "source": [
    "week = ['Monday', 'Tuesday', 'Wednesday', 'Thursday', 'Friday', 'Saturday', 'Sunday']\n",
    "\n",
    "def convert_to_scalar(typeId, content):\n",
    "    '''\n",
    "    return the scalar encoding of the feature\n",
    "    typeId 1 => Day of the week\n",
    "    typeId 2 => Hour of the day\n",
    "    typeId 3 => Work-flow number\n",
    "    typeId 4 => File-type\n",
    "    typeId 0 => Week number\n",
    "    typeId 5 => Size of backup (GB)\n",
    "    '''\n",
    "    if typeId == 1:\n",
    "        return week.index(content) + 1\n",
    "    elif typeId == 2:\n",
    "        return int(content)\n",
    "    elif typeId == 3:\n",
    "        return int(content.split('_')[2])\n",
    "    elif typeId == 4:\n",
    "        return int(content.split('_')[1])\n",
    "    elif typeId == 0:\n",
    "        return int(content)\n",
    "    elif typeId == 5:\n",
    "        return float(content)\n",
    "    else:\n",
    "        raise Exception('invalid typeId')\n",
    "        \n",
    "def transform_to_scalar(row):\n",
    "    '''\n",
    "    return a transformed scalar row\n",
    "    parameter row is row in dataset\n",
    "    '''\n",
    "    a = []\n",
    "    for i, v in enumerate(row[:6]):\n",
    "        a.append(convert_to_scalar(i, v))\n",
    "\n",
    "    return a"
   ]
  },
  {
   "cell_type": "code",
   "execution_count": 6,
   "metadata": {},
   "outputs": [],
   "source": [
    "from sklearn.cross_validation import cross_val_predict\n",
    "from sklearn.model_selection import KFold\n",
    "\n",
    "dataset_scalar = map(transform_to_scalar, df.as_matrix())"
   ]
  },
  {
   "cell_type": "code",
   "execution_count": 7,
   "metadata": {},
   "outputs": [],
   "source": [
    "# get the rmse\n",
    "def get_rmse(target, predict):\n",
    "    n = len(predict)\n",
    "    total = sum([(target[i] - predict[i])**2 for i in range(n)])\n",
    "    return (total / n) ** 0.5"
   ]
  },
  {
   "cell_type": "code",
   "execution_count": 12,
   "metadata": {},
   "outputs": [],
   "source": [
    "%matplotlib inline\n",
    "import matplotlib.pyplot as plt \n",
    "\n",
    "# plot the rmse \n",
    "def plot_rmse(degree, train_rmse, test_rmse, title):\n",
    "    plt.plot(degree, train_rmse, label = \"train_rmse\")\n",
    "    plt.plot(degree, test_rmse, label = \"test_rmse\")\n",
    "    plt.title(title)\n",
    "    plt.xlabel('number of neighbors')\n",
    "    plt.ylabel('RMSE')\n",
    "    plt.legend(loc = 1, fancybox = True, framealpha = 0.5, prop = {'size': 8})\n",
    "    plt.show()"
   ]
  },
  {
   "cell_type": "code",
   "execution_count": 14,
   "metadata": {},
   "outputs": [
    {
     "data": {
      "image/png": "[encoded data removed]",
      "text/plain": [
       "<matplotlib.figure.Figure at 0x110e79150>"
      ]
     },
     "metadata": {},
     "output_type": "display_data"
    }
   ],
   "source": [
    "from sklearn.neighbors import KNeighborsRegressor\n",
    "\n",
    "number_of_neighbors = range(1, 30)\n",
    "n_splits = 10\n",
    "kf = KFold(n_splits = n_splits)\n",
    "\n",
    "train_rmse = [0] * len(number_of_neighbors)\n",
    "test_rmse = [0] * len(number_of_neighbors)\n",
    "\n",
    "for train_index, test_index in kf.split(dataset_scalar):\n",
    "    train_set = [dataset_scalar[i] for i in train_index]\n",
    "    test_set = [dataset_scalar[i] for i in test_index]\n",
    "    train = map(lambda x: x[:3] + x[4:5], train_set)\n",
    "    train_target = map(lambda x: x[5], train_set)\n",
    "    test = map(lambda x: x[:3] + x[4:5], test_set)\n",
    "    test_target = map(lambda x: x[5], test_set)\n",
    "        \n",
    "    for i, k in enumerate(number_of_neighbors):\n",
    "        neigh = KNeighborsRegressor(n_neighbors = k)\n",
    "        neigh.fit(train, train_target)\n",
    "\n",
    "        train_predict = neigh.predict(train)\n",
    "        test_predict = neigh.predict(test)\n",
    "\n",
    "        train_rmse[i] += get_rmse(train_target, train_predict)\n",
    "        test_rmse[i] += get_rmse(test_target, test_predict)\n",
    "        \n",
    "train_rmse = map(lambda x: (x / 10) ** 0.5, train_rmse)\n",
    "test_rmse = map(lambda x: (x / 10) ** 0.5, test_rmse)\n",
    "plot_rmse(number_of_neighbors, train_rmse, test_rmse, \"rmse to number-of-neighbors\")"
   ]
  },
  {
   "cell_type": "code",
   "execution_count": null,
   "metadata": {},
   "outputs": [],
   "source": []
  }
 ],
 "metadata": {
  "kernelspec": {
   "display_name": "Python 2",
   "language": "python",
   "name": "python2"
  },
  "language_info": {
   "codemirror_mode": {
    "name": "ipython",
    "version": 2
   },
   "file_extension": ".py",
   "mimetype": "text/x-python",
   "name": "python",
   "nbconvert_exporter": "python",
   "pygments_lexer": "ipython2",
   "version": "2.7.10"
  }
 },
 "nbformat": 4,
 "nbformat_minor": 2
}
