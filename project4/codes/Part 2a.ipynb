{
 "cells": [
  {
   "cell_type": "code",
   "execution_count": 3,
   "metadata": {
    "scrolled": false
   },
   "outputs": [
    {
     "name": "stdout",
     "output_type": "stream",
     "text": [
      "labels[0] => Week #\n",
      "labels[1] => Day of Week\n",
      "labels[2] => Backup Start Time - Hour of Day\n",
      "labels[3] => Work-Flow-ID\n",
      "labels[4] => File Name\n",
      "labels[5] => Size of Backup (GB)\n",
      "labels[6] => Backup Time (hour)\n"
     ]
    }
   ],
   "source": [
    "# \n",
    "# labels[0] => Week #\n",
    "# labels[1] => Day of Week\n",
    "# labels[2] => Backup Start Time - Hour of Day\n",
    "# labels[3] => Work-Flow-ID\n",
    "# labels[4] => File Name\n",
    "# labels[5] => Size of Backup (GB)\n",
    "# labels[6] => Backup Time (hour)\n",
    "# \n",
    "import numpy as np\n",
    "import pandas as pd\n",
    "\n",
    "Data = pd.read_csv(\"../data/network_backup_dataset.csv\")\n",
    "labels = Data.columns\n",
    "for i, v in enumerate(labels):\n",
    "    print \"labels[\" + str(i) + \"] => \" + v\n",
    "    \n",
    "uniqueFiles = ['File_{0}'.format(s) for s in xrange(len((pd.unique(Data['File Name']))))]\n",
    "\n",
    "def OneDimensionTransfer(label, data):\n",
    "    if label == labels[1]:\n",
    "        return data.replace({'Day of Week': {'Monday' : 0, 'Tuesday' : 1, 'Wednesday' : 2, 'Thursday' : 3, 'Friday' : 4,'Saturday' : 5, 'Sunday' : 6}})\n",
    "    elif label == labels[3]:\n",
    "        return data.replace({'Work-Flow-ID': {'work_flow_0' : 0, 'work_flow_1' : 1, 'work_flow_2' : 2, 'work_flow_3' : 3, 'work_flow_4' : 4}})\n",
    "    elif label == labels[4]:\n",
    "        for i,j in zip(uniqueFiles,range(len(uniqueFiles))):\n",
    "            data = data.replace({'File Name': {i : j}})\n",
    "        return data\n",
    "    else:\n",
    "        return data\n",
    "    \n",
    "# for i in range(len(labels)):    \n",
    "#     Data = OneDimensionTransfer(labels[i], Data)\n",
    "    \n",
    "# newData = Data\n",
    "\n",
    "def OneHotEncoding(label, data):\n",
    "    tmpData = pd.get_dummies(data,columns=[str(label)])\n",
    "    return tmpData\n",
    "\n",
    "# newData = OneHotEncoding(labels[1], newData)\n",
    "# print newData"
   ]
  },
  {
   "cell_type": "code",
   "execution_count": 4,
   "metadata": {},
   "outputs": [
    {
     "name": "stdout",
     "output_type": "stream",
     "text": [
      "32\n"
     ]
    }
   ],
   "source": [
    "import itertools\n",
    "def MakeCombinationData(data):\n",
    "    lsts = list(itertools.product([0, 1], repeat=5))\n",
    "    data_set = []\n",
    "    for lst in lsts:\n",
    "        tmp_data = data\n",
    "        for index,item in enumerate(lst):\n",
    "            if item == 0:\n",
    "                tmp_data = OneDimensionTransfer(labels[index], tmp_data)\n",
    "            else:\n",
    "                tmp_data = OneHotEncoding(labels[index], tmp_data)\n",
    "        data_set.append(tmp_data)\n",
    "    return data_set    \n",
    "Data_set = MakeCombinationData(Data)\n",
    "print len(Data_set)"
   ]
  },
  {
   "cell_type": "code",
   "execution_count": 10,
   "metadata": {},
   "outputs": [
    {
     "name": "stdout",
     "output_type": "stream",
     "text": [
      "train_RMSE 0.10324891604212882\n",
      "test_RMSE 0.10660911216394794\n",
      "train_RMSE 0.10397142299652957\n",
      "test_RMSE 0.10009096185864508\n",
      "train_RMSE 0.1032298752511082\n",
      "test_RMSE 0.10677491391852148\n",
      "train_RMSE 0.10395054345712676\n",
      "test_RMSE 0.10028593026550955\n",
      "train_RMSE 0.10319916799444366\n",
      "test_RMSE 0.10704169864673338\n",
      "train_RMSE 0.10394281699758047\n",
      "test_RMSE 0.10035797226858764\n",
      "train_RMSE 0.10320664253144309\n",
      "test_RMSE 0.10697682841705938\n",
      "train_RMSE 0.10394104438446988\n",
      "test_RMSE 0.10037449217973056\n",
      "train_RMSE 0.10320570895574108\n",
      "test_RMSE 0.10698693125111834\n",
      "train_RMSE 0.10399596458247523\n",
      "test_RMSE 0.09985898976602663\n"
     ]
    }
   ],
   "source": [
    "#RMSE for all scalar\n",
    "\n",
    "import numpy as np\n",
    "import pandas as pd\n",
    "import scipy as sp\n",
    "from sklearn.linear_model import LinearRegression\n",
    "from sklearn.cross_validation import cross_val_predict\n",
    "from sklearn.model_selection import KFold\n",
    "\n",
    "\n",
    "Data = pd.read_csv(\"../data/network_backup_dataset.csv\")\n",
    "labels = Data.columns\n",
    "\n",
    "uniqueFiles = ['File_{0}'.format(s) for s in xrange(len((pd.unique(Data['File Name']))))]\n",
    "\n",
    "def OneDimensionTransfer(label, data):\n",
    "    if label == labels[1]:\n",
    "        return data.replace({'Day of Week': {'Monday' : 0, 'Tuesday' : 1, 'Wednesday' : 2, 'Thursday' : 3, 'Friday' : 4,'Saturday' : 5, 'Sunday' : 6}})\n",
    "    elif label == labels[3]:\n",
    "        return data.replace({'Work-Flow-ID': {'work_flow_0' : 0, 'work_flow_1' : 1, 'work_flow_2' : 2, 'work_flow_3' : 3, 'work_flow_4' : 4}})\n",
    "    elif label == labels[4]:\n",
    "        for i,j in zip(uniqueFiles,range(len(uniqueFiles))):\n",
    "            data = data.replace({'File Name': {i : j}})\n",
    "        return data\n",
    "    else:\n",
    "        return data\n",
    "    \n",
    "for i in range(len(labels)):    \n",
    "    Data = OneDimensionTransfer(labels[i], Data)\n",
    "    \n",
    "Training = Data.copy()\n",
    "Training.drop(labels[6],1,inplace = True)\n",
    "Sample = Training.copy()\n",
    "Target = Training.pop(labels[5])\n",
    "\n",
    "Lin_reg = LinearRegression()\n",
    "Lin_reg.fit(Training,Target)\n",
    "\n",
    "def CalculateRMSE(data,predict):\n",
    "    return sp.sqrt(sp.mean((predict - data) ** 2))\n",
    "def FoldRMSE(data):\n",
    "    target = data.pop(labels[5])\n",
    "    predict = Lin_reg.predict(data)\n",
    "    return CalculateRMSE(predict,target)\n",
    "\n",
    "kf = KFold(n_splits=10)\n",
    "kf.get_n_splits(Sample)\n",
    "for train_index, test_index in kf.split(Sample):\n",
    "    train_set = Sample.iloc[train_index, :]\n",
    "    test_set = Sample.iloc[test_index, :]\n",
    "    print 'train_RMSE', FoldRMSE(train_set)\n",
    "    print 'test_RMSE', FoldRMSE(test_set)"
   ]
  },
  {
   "cell_type": "code",
   "execution_count": 22,
   "metadata": {},
   "outputs": [
    {
     "name": "stdout",
     "output_type": "stream",
     "text": [
      "   Week #  Day of Week  Backup Start Time - Hour of Day  Work-Flow-ID  \\\n",
      "1       1            0                                1             2   \n",
      "2       1            0                                1             2   \n",
      "\n",
      "   File Name  \n",
      "1         12  \n",
      "2         13  \n",
      "1    0.0\n",
      "2    0.0\n",
      "Name: Size of Backup (GB), dtype: float64\n",
      "Fitted values vs. Actual values:\n"
     ]
    },
    {
     "data": {
      "image/png": "[encoded data removed]",
      "text/plain": [
       "<matplotlib.figure.Figure at 0x1a159dbed0>"
      ]
     },
     "metadata": {},
     "output_type": "display_data"
    },
    {
     "name": "stdout",
     "output_type": "stream",
     "text": [
      "Residuals vs. Fitted value\n"
     ]
    },
    {
     "data": {
      "image/png": "[encoded data removed]",
      "text/plain": [
       "<matplotlib.figure.Figure at 0x10d857ed0>"
      ]
     },
     "metadata": {},
     "output_type": "display_data"
    }
   ],
   "source": [
    "import matplotlib.pyplot as plt \n",
    "print Training[1:3]\n",
    "print Target[1:3]\n",
    "Predict = cross_val_predict(Lin_reg, Training, Target, cv = 10)\n",
    "\n",
    "\n",
    "fig, ax = plt.subplots()\n",
    "ax.scatter(Target, Predict)\n",
    "ax.plot([Target.min(), Target.max()], [Target.min(), Target.max()], 'k--', lw = 4)\n",
    "ax.set_xlabel('Measured size', fontsize = 20)\n",
    "ax.set_ylabel('Predicted size', fontsize = 20)\n",
    "plt.title('Fitted values vs. Actual values', fontsize = 20)\n",
    "print \"Fitted values vs. Actual values:\"\n",
    "plt.show()\n",
    "\n",
    "\n",
    "\n",
    "fig, ax = plt.subplots()\n",
    "ax.scatter(Predict, Predict-Target)\n",
    "ax.set_xlabel('Predicted size', fontsize = 20)\n",
    "ax.set_ylabel('Residual', fontsize = 20)\n",
    "plt.title('Residuals vs. Fitted value', fontsize = 20)\n",
    "print \"Residuals vs. Fitted value\"\n",
    "plt.show()\n"
   ]
  },
  {
   "cell_type": "code",
   "execution_count": null,
   "metadata": {},
   "outputs": [],
   "source": []
  },
  {
   "cell_type": "code",
   "execution_count": null,
   "metadata": {},
   "outputs": [],
   "source": []
  }
 ],
 "metadata": {
  "kernelspec": {
   "display_name": "Python 2",
   "language": "python",
   "name": "python2"
  },
  "language_info": {
   "codemirror_mode": {
    "name": "ipython",
    "version": 2
   },
   "file_extension": ".py",
   "mimetype": "text/x-python",
   "name": "python",
   "nbconvert_exporter": "python",
   "pygments_lexer": "ipython2",
   "version": "2.7.14"
  }
 },
 "nbformat": 4,
 "nbformat_minor": 2
}
