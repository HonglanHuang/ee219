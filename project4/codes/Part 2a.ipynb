{
 "cells": [
  {
   "cell_type": "code",
   "execution_count": 3,
   "metadata": {
    "scrolled": false
   },
   "outputs": [
    {
     "name": "stdout",
     "output_type": "stream",
     "text": [
      "labels[0] => Week #\n",
      "labels[1] => Day of Week\n",
      "labels[2] => Backup Start Time - Hour of Day\n",
      "labels[3] => Work-Flow-ID\n",
      "labels[4] => File Name\n",
      "labels[5] => Size of Backup (GB)\n",
      "labels[6] => Backup Time (hour)\n"
     ]
    }
   ],
   "source": [
    "# \n",
    "# labels[0] => Week #\n",
    "# labels[1] => Day of Week\n",
    "# labels[2] => Backup Start Time - Hour of Day\n",
    "# labels[3] => Work-Flow-ID\n",
    "# labels[4] => File Name\n",
    "# labels[5] => Size of Backup (GB)\n",
    "# labels[6] => Backup Time (hour)\n",
    "# \n",
    "import numpy as np\n",
    "import pandas as pd\n",
    "\n",
    "Data = pd.read_csv(\"../data/network_backup_dataset.csv\")\n",
    "labels = Data.columns\n",
    "for i, v in enumerate(labels):\n",
    "    print \"labels[\" + str(i) + \"] => \" + v\n",
    "    \n",
    "uniqueFiles = ['File_{0}'.format(s) for s in xrange(len((pd.unique(Data['File Name']))))]\n",
    "\n",
    "def OneDimensionTransfer(label, data):\n",
    "    if label == labels[1]:\n",
    "        return data.replace({'Day of Week': {'Monday' : 0, 'Tuesday' : 1, 'Wednesday' : 2, 'Thursday' : 3, 'Friday' : 4,'Saturday' : 5, 'Sunday' : 6}})\n",
    "    elif label == labels[3]:\n",
    "        return data.replace({'Work-Flow-ID': {'work_flow_0' : 0, 'work_flow_1' : 1, 'work_flow_2' : 2, 'work_flow_3' : 3, 'work_flow_4' : 4}})\n",
    "    elif label == labels[4]:\n",
    "        for i,j in zip(uniqueFiles,range(len(uniqueFiles))):\n",
    "            data = data.replace({'File Name': {i : j}})\n",
    "        return data\n",
    "    else:\n",
    "        return data\n",
    "    \n",
    "# for i in range(len(labels)):    \n",
    "#     Data = OneDimensionTransfer(labels[i], Data)\n",
    "    \n",
    "# newData = Data\n",
    "\n",
    "def OneHotEncoding(label, data):\n",
    "    tmpData = pd.get_dummies(data,columns=[str(label)])\n",
    "    return tmpData\n",
    "\n",
    "# newData = OneHotEncoding(labels[1], newData)\n",
    "# print newData"
   ]
  },
  {
   "cell_type": "code",
   "execution_count": 4,
   "metadata": {},
   "outputs": [
    {
     "name": "stdout",
     "output_type": "stream",
     "text": [
      "32\n"
     ]
    }
   ],
   "source": [
    "import itertools\n",
    "def MakeCombinationData(data):\n",
    "    lsts = list(itertools.product([0, 1], repeat=5))\n",
    "    data_set = []\n",
    "    for lst in lsts:\n",
    "        tmp_data = data\n",
    "        for index,item in enumerate(lst):\n",
    "            if item == 0:\n",
    "                tmp_data = OneDimensionTransfer(labels[index], tmp_data)\n",
    "            else:\n",
    "                tmp_data = OneHotEncoding(labels[index], tmp_data)\n",
    "        data_set.append(tmp_data)\n",
    "    return data_set    \n",
    "Data_set = MakeCombinationData(Data)\n",
    "print len(Data_set)"
   ]
  },
  {
   "cell_type": "code",
   "execution_count": 39,
   "metadata": {},
   "outputs": [
    {
     "name": "stdout",
     "output_type": "stream",
     "text": [
      "train_RMSE 0.10393858396050151\n",
      "test_RMSE 0.10706967581259685\n",
      "train_RMSE 0.10475965294901611\n",
      "test_RMSE 0.09993815074384507\n",
      "train_RMSE 0.1039705690187425\n",
      "test_RMSE 0.10671561624213878\n",
      "train_RMSE 0.10479786936473291\n",
      "test_RMSE 0.10003201367711427\n",
      "train_RMSE 0.10397163515851572\n",
      "test_RMSE 0.10686486436465822\n",
      "train_RMSE 0.10481515905452862\n",
      "test_RMSE 0.10005178076551445\n",
      "train_RMSE 0.10399598739966495\n",
      "test_RMSE 0.10677062820283881\n",
      "train_RMSE 0.10481364331307322\n",
      "test_RMSE 0.10003310552625817\n",
      "train_RMSE 0.10397812819039667\n",
      "test_RMSE 0.10670807152713645\n",
      "train_RMSE 0.10483669246208886\n",
      "test_RMSE 0.09954456918896258\n"
     ]
    }
   ],
   "source": [
    "import numpy as np\n",
    "import pandas as pd\n",
    "import scipy as sp\n",
    "from sklearn.linear_model import LinearRegression\n",
    "from sklearn.cross_validation import cross_val_predict\n",
    "from sklearn.model_selection import KFold\n",
    "\n",
    "\n",
    "Data = pd.read_csv(\"../data/network_backup_dataset.csv\")\n",
    "labels = Data.columns\n",
    "\n",
    "uniqueFiles = ['File_{0}'.format(s) for s in xrange(len((pd.unique(Data['File Name']))))]\n",
    "\n",
    "def OneDimensionTransfer(label, data):\n",
    "    if label == labels[1]:\n",
    "        return data.replace({'Day of Week': {'Monday' : 0, 'Tuesday' : 1, 'Wednesday' : 2, 'Thursday' : 3, 'Friday' : 4,'Saturday' : 5, 'Sunday' : 6}})\n",
    "    elif label == labels[3]:\n",
    "        return data.replace({'Work-Flow-ID': {'work_flow_0' : 0, 'work_flow_1' : 1, 'work_flow_2' : 2, 'work_flow_3' : 3, 'work_flow_4' : 4}})\n",
    "    elif label == labels[4]:\n",
    "        for i,j in zip(uniqueFiles,range(len(uniqueFiles))):\n",
    "            data = data.replace({'File Name': {i : j}})\n",
    "        return data\n",
    "    else:\n",
    "        return data\n",
    "    \n",
    "for i in range(len(labels)):    \n",
    "    Data = OneDimensionTransfer(labels[i], Data)\n",
    "    \n",
    "Training = Data.copy()\n",
    "Training.drop(labels[6],1,inplace = True)\n",
    "#Standard = Training.pop(labels[5])\n",
    "\n",
    "Lin_reg = LinearRegression(fit_intercept = False)\n",
    "\n",
    "\n",
    "def CalculateRMSE(data,predict):\n",
    "    return sp.sqrt(sp.mean((predict - data) ** 2))\n",
    "def FoldRMSE(data):\n",
    "    target = data.pop(labels[5])\n",
    "    Lin_reg.fit(data,target)\n",
    "    predict = Lin_reg.predict(data)\n",
    "    return CalculateRMSE(predict,target)\n",
    "kf = KFold(n_splits=10)\n",
    "kf.get_n_splits(Training)\n",
    "for train_index, test_index in kf.split(Training):\n",
    "    train_set = Training.iloc[train_index, :]\n",
    "    test_set = Training.iloc[test_index, :]\n",
    "    print 'train_RMSE', FoldRMSE(train_set)\n",
    "    print 'test_RMSE', FoldRMSE(test_set)"
   ]
  },
  {
   "cell_type": "code",
   "execution_count": null,
   "metadata": {},
   "outputs": [],
   "source": []
  }
 ],
 "metadata": {
  "kernelspec": {
   "display_name": "Python 2",
   "language": "python",
   "name": "python2"
  },
  "language_info": {
   "codemirror_mode": {
    "name": "ipython",
    "version": 2
   },
   "file_extension": ".py",
   "mimetype": "text/x-python",
   "name": "python",
   "nbconvert_exporter": "python",
   "pygments_lexer": "ipython2",
   "version": "2.7.14"
  }
 },
 "nbformat": 4,
 "nbformat_minor": 2
}
