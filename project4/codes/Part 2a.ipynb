{
 "cells": [
  {
   "cell_type": "code",
   "execution_count": 3,
   "metadata": {
    "scrolled": false
   },
   "outputs": [
    {
     "name": "stdout",
     "output_type": "stream",
     "text": [
      "labels[0] => Week #\n",
      "labels[1] => Day of Week\n",
      "labels[2] => Backup Start Time - Hour of Day\n",
      "labels[3] => Work-Flow-ID\n",
      "labels[4] => File Name\n",
      "labels[5] => Size of Backup (GB)\n",
      "labels[6] => Backup Time (hour)\n"
     ]
    }
   ],
   "source": [
    "# \n",
    "# labels[0] => Week #\n",
    "# labels[1] => Day of Week\n",
    "# labels[2] => Backup Start Time - Hour of Day\n",
    "# labels[3] => Work-Flow-ID\n",
    "# labels[4] => File Name\n",
    "# labels[5] => Size of Backup (GB)\n",
    "# labels[6] => Backup Time (hour)\n",
    "# \n",
    "import numpy as np\n",
    "import pandas as pd\n",
    "\n",
    "Data = pd.read_csv(\"../data/network_backup_dataset.csv\")\n",
    "labels = Data.columns\n",
    "for i, v in enumerate(labels):\n",
    "    print \"labels[\" + str(i) + \"] => \" + v\n",
    "    \n",
    "uniqueFiles = ['File_{0}'.format(s) for s in xrange(len((pd.unique(Data['File Name']))))]\n",
    "\n",
    "def OneDimensionTransfer(label, data):\n",
    "    if label == labels[1]:\n",
    "        return data.replace({'Day of Week': {'Monday' : 0, 'Tuesday' : 1, 'Wednesday' : 2, 'Thursday' : 3, 'Friday' : 4,'Saturday' : 5, 'Sunday' : 6}})\n",
    "    elif label == labels[3]:\n",
    "        return data.replace({'Work-Flow-ID': {'work_flow_0' : 0, 'work_flow_1' : 1, 'work_flow_2' : 2, 'work_flow_3' : 3, 'work_flow_4' : 4}})\n",
    "    elif label == labels[4]:\n",
    "        for i,j in zip(uniqueFiles,range(len(uniqueFiles))):\n",
    "            data = data.replace({'File Name': {i : j}})\n",
    "        return data\n",
    "    else:\n",
    "        return data\n",
    "    \n",
    "# for i in range(len(labels)):    \n",
    "#     Data = OneDimensionTransfer(labels[i], Data)\n",
    "    \n",
    "# newData = Data\n",
    "\n",
    "def OneHotEncoding(label, data):\n",
    "    tmpData = pd.get_dummies(data,columns=[str(label)])\n",
    "    return tmpData\n",
    "\n",
    "# newData = OneHotEncoding(labels[1], newData)\n",
    "# print newData"
   ]
  },
  {
   "cell_type": "code",
   "execution_count": 4,
   "metadata": {},
   "outputs": [
    {
     "name": "stdout",
     "output_type": "stream",
     "text": [
      "32\n"
     ]
    }
   ],
   "source": [
    "import itertools\n",
    "def MakeCombinationData(data):\n",
    "    lsts = list(itertools.product([0, 1], repeat=5))\n",
    "    data_set = []\n",
    "    for lst in lsts:\n",
    "        tmp_data = data\n",
    "        for index,item in enumerate(lst):\n",
    "            if item == 0:\n",
    "                tmp_data = OneDimensionTransfer(labels[index], tmp_data)\n",
    "            else:\n",
    "                tmp_data = OneHotEncoding(labels[index], tmp_data)\n",
    "        data_set.append(tmp_data)\n",
    "    return data_set    \n",
    "Data_set = MakeCombinationData(Data)\n",
    "print len(Data_set)"
   ]
  },
  {
   "cell_type": "code",
   "execution_count": null,
   "metadata": {},
   "outputs": [],
   "source": []
  }
 ],
 "metadata": {
  "kernelspec": {
   "display_name": "Python 2",
   "language": "python",
   "name": "python2"
  }
 },
 "nbformat": 4,
 "nbformat_minor": 2
}
