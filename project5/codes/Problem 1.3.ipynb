{
 "cells": [
  {
   "cell_type": "code",
   "execution_count": 12,
   "metadata": {},
   "outputs": [
    {
     "name": "stdout",
     "output_type": "stream",
     "text": [
      "files[0] => tweets_#gohawks.txt\n",
      "files[1] => tweets_#gopatriots.txt\n",
      "files[2] => tweets_#nfl.txt\n",
      "files[3] => tweets_#patriots.txt\n",
      "files[4] => tweets_#sb49.txt\n",
      "files[5] => tweets_#superbowl.txt\n"
     ]
    }
   ],
   "source": [
    "import json\n",
    "import numpy as np\n",
    "\n",
    "path = \"../tweet_data/\"\n",
    "\n",
    "files = [\"tweets_#gohawks.txt\", \"tweets_#gopatriots.txt\", \\\n",
    "        \"tweets_#nfl.txt\", \"tweets_#patriots.txt\", \\\n",
    "        \"tweets_#sb49.txt\", \"tweets_#superbowl.txt\"]\n",
    "\n",
    "for i, fl in enumerate(files):\n",
    "    print \"files[\" + str(i) + \"] => \" + fl"
   ]
  },
  {
   "cell_type": "code",
   "execution_count": 13,
   "metadata": {},
   "outputs": [],
   "source": [
    "# the extracted data contains\n",
    "# 0. the followers number 1. the favourite_count 2. the citation date \n",
    "# 3. the length of the title 4. the number of the twitters\n",
    "def load_file(file):\n",
    "    '''\n",
    "    load the time, follows, and retweets\n",
    "    '''\n",
    "    result = []\n",
    "    time_min = -1\n",
    "    for line in open(path + file, 'r') :\n",
    "        tmp = []\n",
    "        a = json.loads(line)\n",
    "        tmp.append(a['author']['followers'])\n",
    "        tmp.append(a['tweet']['user']['favourites_count'])\n",
    "        tmp.append(a['citation_date'])\n",
    "        if time_min > a['citation_date'] or time_min == -1:\n",
    "            time_min = a['citation_date']\n",
    "        tmp.append(len(a['title']))\n",
    "        result.append(tmp)\n",
    "    return time_min, result"
   ]
  },
  {
   "cell_type": "code",
   "execution_count": 14,
   "metadata": {},
   "outputs": [],
   "source": [
    "time_min, superbowl = load_file(files[0])"
   ]
  },
  {
   "cell_type": "code",
   "execution_count": 15,
   "metadata": {},
   "outputs": [],
   "source": [
    "# process the time\n",
    "def pro_date(date, time_min):\n",
    "    time_min = time_min // 3600\n",
    "    return date // 3600 - time_min"
   ]
  },
  {
   "cell_type": "code",
   "execution_count": 16,
   "metadata": {},
   "outputs": [],
   "source": [
    "# process the data\n",
    "max_date = 0\n",
    "for p in superbowl:\n",
    "    p[2] = pro_date(p[2], time_min)\n",
    "    p.append(1)\n",
    "    max_date = max(max_date, p[2])"
   ]
  },
  {
   "cell_type": "code",
   "execution_count": 17,
   "metadata": {},
   "outputs": [],
   "source": [
    "# count the data and get the trainset\n",
    "train_set = []\n",
    "for i in range(max_date + 1):\n",
    "    train_set.append([0] * 5)\n",
    "    \n",
    "for p in superbowl:\n",
    "    x = train_set[p[2]]\n",
    "    x[2] = p[2]\n",
    "    for i in [0, 1, 3, 4]:\n",
    "        x[i] += p[i]"
   ]
  },
  {
   "cell_type": "code",
   "execution_count": 18,
   "metadata": {},
   "outputs": [],
   "source": [
    "target = []\n",
    "for i, v in enumerate(train_set[:-1]):\n",
    "    target.append(train_set[i + 1][4])\n",
    "\n",
    "train_set = train_set[:-1]"
   ]
  },
  {
   "cell_type": "code",
   "execution_count": 19,
   "metadata": {},
   "outputs": [
    {
     "name": "stdout",
     "output_type": "stream",
     "text": [
      "[24989.0, 81313, 0, 2565, 30]\n"
     ]
    }
   ],
   "source": [
    "print train_set[0]"
   ]
  },
  {
   "cell_type": "code",
   "execution_count": 20,
   "metadata": {},
   "outputs": [],
   "source": [
    "from sklearn import linear_model\n",
    "\n",
    "lr = linear_model.LinearRegression().fit(train_set, target)\n",
    "predict = lr.predict(train_set)"
   ]
  },
  {
   "cell_type": "code",
   "execution_count": 21,
   "metadata": {},
   "outputs": [],
   "source": [
    "%matplotlib inline\n",
    "import matplotlib.pyplot as plt\n",
    "import numpy as np\n",
    "\n",
    "def plot_fit_actual(target, predict):\n",
    "    fig, ax = plt.subplots()\n",
    "    area = np.pi * (4)**2/4\n",
    "    ax.scatter(target, predict, s = area)\n",
    "    ax.plot([min(target), max(target)], [min(target), max(target)], 'k--', lw = 1)\n",
    "    ax.set_xlabel('Measured size', fontsize = 20)\n",
    "    ax.set_ylabel('Predicted size', fontsize = 20)\n",
    "    plt.title('Fitted values vs. Actual values', fontsize = 20)\n",
    "\n",
    "    print \"Fitted values vs. Actual values:\"\n",
    "    plt.show()"
   ]
  },
  {
   "cell_type": "code",
   "execution_count": 25,
   "metadata": {},
   "outputs": [
    {
     "name": "stdout",
     "output_type": "stream",
     "text": [
      "Fitted values vs. Actual values:\n"
     ]
    },
    {
     "data": {
      "image/png": "[encoded data removed]",
      "text/plain": [
       "<matplotlib.figure.Figure at 0x10cab3bd0>"
      ]
     },
     "metadata": {},
     "output_type": "display_data"
    }
   ],
   "source": [
    "plot_fit_actual(target, predict)"
   ]
  },
  {
   "cell_type": "code",
   "execution_count": 23,
   "metadata": {},
   "outputs": [
    {
     "name": "stdout",
     "output_type": "stream",
     "text": [
      "R-squared 0.620492755788223\n"
     ]
    }
   ],
   "source": [
    "from sklearn.metrics import r2_score\n",
    "from sklearn.metrics import accuracy_score\n",
    "\n",
    "print 'R-squared', r2_score(target, predict)"
   ]
  },
  {
   "cell_type": "code",
   "execution_count": 26,
   "metadata": {},
   "outputs": [
    {
     "name": "stdout",
     "output_type": "stream",
     "text": [
      "                            OLS Regression Results                            \n",
      "==============================================================================\n",
      "Dep. Variable:                      y   R-squared:                       0.641\n",
      "Model:                            OLS   Adj. R-squared:                  0.638\n",
      "Method:                 Least Squares   F-statistic:                     204.9\n",
      "Date:                Sat, 10 Mar 2018   Prob (F-statistic):          5.01e-125\n",
      "Time:                        18:15:29   Log-Likelihood:                -4702.0\n",
      "No. Observations:                 578   AIC:                             9414.\n",
      "Df Residuals:                     573   BIC:                             9436.\n",
      "Df Model:                           5                                         \n",
      "Covariance Type:            nonrobust                                         \n",
      "==============================================================================\n",
      "                 coef    std err          t      P>|t|      [0.025      0.975]\n",
      "------------------------------------------------------------------------------\n",
      "x1            -0.0002   4.92e-05     -4.466      0.000      -0.000      -0.000\n",
      "x2             0.0017      0.000     14.865      0.000       0.001       0.002\n",
      "x3             0.0184      0.113      0.163      0.870      -0.204       0.241\n",
      "x4             0.0212      0.004      5.690      0.000       0.014       0.029\n",
      "x5            -4.3520      0.393    -11.062      0.000      -5.125      -3.579\n",
      "==============================================================================\n",
      "Omnibus:                      974.336   Durbin-Watson:                   2.047\n",
      "Prob(Omnibus):                  0.000   Jarque-Bera (JB):           697873.381\n",
      "Skew:                          10.022   Prob(JB):                         0.00\n",
      "Kurtosis:                     172.043   Cond. No.                     4.99e+04\n",
      "==============================================================================\n",
      "\n",
      "Warnings:\n",
      "[1] Standard Errors assume that the covariance matrix of the errors is correctly specified.\n",
      "[2] The condition number is large, 4.99e+04. This might indicate that there are\n",
      "strong multicollinearity or other numerical problems.\n"
     ]
    }
   ],
   "source": [
    "import statsmodels.api as sm\n",
    "import statsmodels.formula.api as smf\n",
    "\n",
    "x = train_set\n",
    "y = target\n",
    "lm = sm.OLS(y, x).fit()\n",
    "# 0. the followers number 1. the favourite_count 2. the citation date \n",
    "# 3. the length of the title 4. the number of the twitters\n",
    "print(lm.summary())"
   ]
  },
  {
   "cell_type": "code",
   "execution_count": null,
   "metadata": {},
   "outputs": [],
   "source": []
  }
 ],
 "metadata": {
  "kernelspec": {
   "display_name": "Python 2",
   "language": "python",
   "name": "python2"
  },
  "language_info": {
   "codemirror_mode": {
    "name": "ipython",
    "version": 2
   },
   "file_extension": ".py",
   "mimetype": "text/x-python",
   "name": "python",
   "nbconvert_exporter": "python",
   "pygments_lexer": "ipython2",
   "version": "2.7.10"
  }
 },
 "nbformat": 4,
 "nbformat_minor": 2
}
